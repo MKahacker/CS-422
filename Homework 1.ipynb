{
 "cells": [
  {
   "cell_type": "markdown",
   "metadata": {},
   "source": [
    "# Homework 1\n",
    "\n",
    "#### Book Problems 1\n",
    "\n",
    "#### Book Problems 2\n"
   ]
  },
  {
   "cell_type": "code",
   "execution_count": 2,
   "metadata": {},
   "outputs": [],
   "source": [
    "import numpy as np\n",
    "import matplotlib.pyplot as pl\n",
    "import pandas as pd\n",
    "import seaborn as sea\n",
    "from sklearn.preprocessing import Imputer\n",
    "from sklearn.decomposition import PCA"
   ]
  },
  {
   "cell_type": "code",
   "execution_count": 2,
   "metadata": {
    "scrolled": true
   },
   "outputs": [
    {
     "data": {
      "text/plain": [
       "<seaborn.axisgrid.FacetGrid at 0x7ff75382a668>"
      ]
     },
     "execution_count": 2,
     "metadata": {},
     "output_type": "execute_result"
    },
    {
     "data": {
      "image/png": "[encoded data removed]",
      "text/plain": [
       "<Figure size 432x432 with 4 Axes>"
      ]
     },
     "metadata": {},
     "output_type": "display_data"
    }
   ],
   "source": [
    "titanic = sea.load_dataset(\"titanic\")\n",
    "\n",
    "age_hist = sea.FacetGrid(titanic, col='survived',row='sex', hue='survived')\n",
    "age_hist.map(pl.hist, 'age', bins=20) \n"
   ]
  },
  {
   "cell_type": "markdown",
   "metadata": {},
   "source": [
    "The results show that females were more likely to survive than men. It also shows that the age range that was most likely to not survive is 18 to 55 years old if you were a male, while in females 0 to 30 years old was the age range that had the most mortality rates. I think that results make sense because women, children, and elders were given priority to evacuate. Thus the likelyhood of being a male and surviving were very low and especially if you were an adult between the age of 18 and 55."
   ]
  },
  {
   "cell_type": "markdown",
   "metadata": {},
   "source": [
    "\n"
   ]
  },
  {
   "cell_type": "code",
   "execution_count": 72,
   "metadata": {},
   "outputs": [
    {
     "name": "stdout",
     "output_type": "stream",
     "text": [
      "              mpg   cylinders  displacement  horsepower       weight  \\\n",
      "count  398.000000  398.000000    398.000000  398.000000   398.000000   \n",
      "mean    23.514573    5.454774    193.425879  104.469388  2970.424623   \n",
      "std      7.815984    1.701004    104.269838   38.199187   846.841774   \n",
      "min      9.000000    3.000000     68.000000   46.000000  1613.000000   \n",
      "25%     17.500000    4.000000    104.250000   76.000000  2223.750000   \n",
      "50%     23.000000    4.000000    148.500000   95.000000  2803.500000   \n",
      "75%     29.000000    8.000000    262.000000  125.000000  3608.000000   \n",
      "max     46.600000    8.000000    455.000000  230.000000  5140.000000   \n",
      "\n",
      "       acceleration  model-year      origin  \n",
      "count    398.000000  398.000000  398.000000  \n",
      "mean      15.568090   76.010050    1.572864  \n",
      "std        2.757689    3.697627    0.802055  \n",
      "min        8.000000   70.000000    1.000000  \n",
      "25%       13.825000   73.000000    1.000000  \n",
      "50%       15.500000   76.000000    1.000000  \n",
      "75%       17.175000   79.000000    2.000000  \n",
      "max       24.800000   82.000000    3.000000  \n",
      "              mpg   cylinders  displacement  horsepower       weight  \\\n",
      "count  398.000000  398.000000    398.000000  398.000000   398.000000   \n",
      "mean    23.514573    5.454774    193.425879  105.155779  2970.424623   \n",
      "std      7.815984    1.701004    104.269838   38.600986   846.841774   \n",
      "min      9.000000    3.000000     68.000000   46.000000  1613.000000   \n",
      "25%     17.500000    4.000000    104.250000   76.000000  2223.750000   \n",
      "50%     23.000000    4.000000    148.500000   95.000000  2803.500000   \n",
      "75%     29.000000    8.000000    262.000000  130.000000  3608.000000   \n",
      "max     46.600000    8.000000    455.000000  230.000000  5140.000000   \n",
      "\n",
      "       acceleration  model-year      origin  \n",
      "count    398.000000  398.000000  398.000000  \n",
      "mean      15.568090   76.010050    1.572864  \n",
      "std        2.757689    3.697627    0.802055  \n",
      "min        8.000000   70.000000    1.000000  \n",
      "25%       13.825000   73.000000    1.000000  \n",
      "50%       15.500000   76.000000    1.000000  \n",
      "75%       17.175000   79.000000    2.000000  \n",
      "max       24.800000   82.000000    3.000000  \n",
      "              mpg   cylinders  displacement  horsepower       weight  \\\n",
      "count  398.000000  398.000000    398.000000  398.000000   398.000000   \n",
      "mean    23.514573    5.454774    193.425879  105.155779  2970.424623   \n",
      "std      7.815984    1.701004    104.269838   38.600986   846.841774   \n",
      "min      9.000000    3.000000     68.000000   46.000000  1613.000000   \n",
      "25%     17.500000    4.000000    104.250000   76.000000  2223.750000   \n",
      "50%     23.000000    4.000000    148.500000   95.000000  2803.500000   \n",
      "75%     29.000000    8.000000    262.000000  130.000000  3608.000000   \n",
      "max     46.600000    8.000000    455.000000  230.000000  5140.000000   \n",
      "\n",
      "       acceleration  model-year      origin  \n",
      "count    398.000000  398.000000  398.000000  \n",
      "mean      15.568090   76.010050    1.572864  \n",
      "std        2.757689    3.697627    0.802055  \n",
      "min        8.000000   70.000000    1.000000  \n",
      "25%       13.825000   73.000000    1.000000  \n",
      "50%       15.500000   76.000000    1.000000  \n",
      "75%       17.175000   79.000000    2.000000  \n",
      "max       24.800000   82.000000    3.000000  \n"
     ]
    },
    {
     "name": "stderr",
     "output_type": "stream",
     "text": [
      "/home/mahmoud/anaconda3/lib/python3.6/site-packages/ipykernel_launcher.py:5: SettingWithCopyWarning: \n",
      "A value is trying to be set on a copy of a slice from a DataFrame\n",
      "\n",
      "See the caveats in the documentation: http://pandas.pydata.org/pandas-docs/stable/indexing.html#indexing-view-versus-copy\n",
      "  \"\"\"\n"
     ]
    }
   ],
   "source": [
    "auto = pd.read_table(\"auto-mpg.data\",sep=\"\\s+\", header=None)\n",
    "auto.columns=[\"mpg\",\"cylinders\", \"displacement\", \"horsepower\", \"weight\", \"acceleration\",\"model-year\", \"origin\", \"car-name\"]\n",
    "for i in range(len(auto[\"horsepower\"])):\n",
    "    if(auto[\"horsepower\"][i] == \"?\"):\n",
    "        auto[\"horsepower\"][i] = np.nan\n",
    "\n",
    "new_columns = auto.drop(columns=['car-name','mpg','cylinders','displacement','weight','acceleration','model-year','origin'])\n",
    "new_columns.horsepower = new_columns.horsepower.astype(np.float64)\n",
    "\n",
    "mean_imp = Imputer(strategy = \"mean\", missing_values=np.nan,axis=0)\n",
    "mean_columns = mean_imp.fit_transform(new_columns)\n",
    "\n",
    "mode_imp = Imputer(strategy = \"most_frequent\", missing_values=np.nan,axis=0)\n",
    "mode_columns = mode_imp.fit_transform(new_columns)\n",
    "\n",
    "median_imp = Imputer(strategy = \"median\", missing_values=np.nan,axis=0)\n",
    "median_columns = mode_imp.fit_transform(new_columns)\n",
    "\n",
    "auto[\"horsepower\"] = mean_columns\n",
    "print(auto.describe())\n",
    "auto[\"horsepower\"] = mode_columns\n",
    "print(auto.describe())\n",
    "auto[\"horsepower\"] = median_columns\n",
    "print(auto.describe())"
   ]
  },
  {
   "cell_type": "markdown",
   "metadata": {},
   "source": [
    "The mean replacement lowers the variance of the feature to 1459.1778874609693. This is because the replacement adds a bunch of values at the mean. What this means is that those values don't adding anything to the variance, and thus the variance is lower when the mean is used to replace instead of mode and median. "
   ]
  },
  {
   "cell_type": "code",
   "execution_count": 4,
   "metadata": {},
   "outputs": [
    {
     "name": "stdout",
     "output_type": "stream",
     "text": [
      "[0.92461872 0.05306648 0.01710261 0.00521218]\n",
      "sepal_length    0.149945\n",
      "sepal_width     0.041544\n",
      "petal_length    0.681458\n",
      "petal_width     0.127053\n",
      "dtype: float64\n"
     ]
    }
   ],
   "source": [
    "iris = sea.load_dataset(\"iris\")\n",
    "num_iris = iris.drop(columns=\"species\")\n",
    "pca_iris = PCA()\n",
    "b = pca_iris.fit_transform(num_iris)\n",
    "print(pca_iris.explained_variance_ratio_)\n",
    "var_precent = iris.var()/iris.var().sum()\n",
    "print(var_precent)\n"
   ]
  },
  {
   "cell_type": "markdown",
   "metadata": {},
   "source": [
    "The PCA decomposition found a component that had 92% of the variance from the dataset. If we were just to take the feature's variance without the decomposition our highest variance would be the feature of petal_length with 68%. The rest of the features had a variance of 14%, 12% and 4% of the total variance respectivily. Thus we can see that the PCA decomposition helps us capture most of the variance in the data set with the first principle component. "
   ]
  },
  {
   "cell_type": "code",
   "execution_count": 31,
   "metadata": {},
   "outputs": [
    {
     "name": "stdout",
     "output_type": "stream",
     "text": [
      "Cosine distance PC1 and petal length 0.4231058992722636\n",
      "Cosine distance PC1 and sepal length 0.12550173314295923\n",
      "Cosine distance PC1 and petal width 0.5172090659664786\n",
      "Cosine distance PC1 and sepal width -0.05609403648857778\n"
     ]
    },
    {
     "data": {
      "image/png": "[encoded data removed]",
      "text/plain": [
       "<Figure size 576x576 with 1 Axes>"
      ]
     },
     "metadata": {},
     "output_type": "display_data"
    }
   ],
   "source": [
    "first_pca = PCA(n_components = 1)\n",
    "first = first_pca.fit_transform(num_iris)\n",
    "originals = [\"Petal Length\", \"Sepal Length\", \"Sepal Width\", \"Petal Width\"]\n",
    "fig = pl.figure(figsize = (8,8))\n",
    "ax = fig.add_subplot(1,1,1) \n",
    "ax.set_xlabel('Principal Component 1', fontsize = 15)\n",
    "ax.set_ylabel('Originals', fontsize = 15)\n",
    "ax.scatter(first, num_iris[\"petal_length\"])\n",
    "ax.scatter(first, num_iris[\"sepal_length\"])\n",
    "ax.scatter(first, num_iris[\"sepal_width\"])\n",
    "ax.scatter(first, num_iris[\"petal_width\"])\n",
    "ax.legend(originals)\n",
    "ax.plot()\n",
    "len_pc = np.linalg.norm(first)\n",
    "firstarray = np.squeeze(np.asarray(first))\n",
    "\n",
    "plen = np.squeeze(np.asarray(num_iris[\"petal_length\"]))\n",
    "slen = np.squeeze(np.asarray(num_iris[\"sepal_length\"]))\n",
    "pwid = np.squeeze(np.asarray(num_iris[\"petal_width\"]))\n",
    "swid = np.squeeze(np.asarray(num_iris[\"sepal_width\"]))\n",
    "\n",
    "displen = np.dot(firstarray, plen)/(len_pc*(np.linalg.norm(plen)))\n",
    "disslen = np.dot(firstarray, slen)/(len_pc*(np.linalg.norm(slen)))\n",
    "dispwid = np.dot(firstarray, pwid)/(len_pc*(np.linalg.norm(pwid)))\n",
    "disswid = np.dot(firstarray, swid)/(len_pc*(np.linalg.norm(swid)))\n",
    "print(\"Cosine distance PC1 and petal length \" + str(displen))\n",
    "print(\"Cosine distance PC1 and sepal length \" + str(disslen))\n",
    "print(\"Cosine distance PC1 and petal width \" + str(dispwid))\n",
    "print(\"Cosine distance PC1 and sepal width \" + str(disswid))"
   ]
  },
  {
   "cell_type": "markdown",
   "metadata": {},
   "source": [
    "# TO DO: NEED ANSWERS FROM BOOK LOOK AT COSINE DISTANCE"
   ]
  },
  {
   "cell_type": "code",
   "execution_count": 39,
   "metadata": {},
   "outputs": [
    {
     "name": "stdout",
     "output_type": "stream",
     "text": [
      "Total variance of original = 4.572957046979867\n",
      "Total variance of PCA eigen values = 4.572957046979866\n"
     ]
    }
   ],
   "source": [
    "pc_df = pd.DataFrame(data = b, columns= [\"PC1\", \"PC2\", \"PC3\", \"PC4\"])\n",
    "print(\"Total variance of original = \"+ str(num_iris.var().sum()))\n",
    "print(\"Total variance of PCA eigen values = \" + str(pc_df.var().sum()) )"
   ]
  },
  {
   "cell_type": "markdown",
   "metadata": {},
   "source": [
    "Both total variances are the same. This is because PCA decomposition doesn't change the variance amount it just rotates the axis to find new eigen vectors that capture the variance more effectively. The fact is that PCA decomposition just makes the general variance equal to the total variance. If we wanted to capture 95% of the variance in this data set we could use the 1st and 2nd Principle components to build our model. This reduces our dimensionality in halve. Thus making our model simpler."
   ]
  }
 ],
 "metadata": {
  "kernelspec": {
   "display_name": "Python 3",
   "language": "python",
   "name": "python3"
  },
  "language_info": {
   "codemirror_mode": {
    "name": "ipython",
    "version": 3
   },
   "file_extension": ".py",
   "mimetype": "text/x-python",
   "name": "python",
   "nbconvert_exporter": "python",
   "pygments_lexer": "ipython3",
   "version": "3.6.5"
  }
 },
 "nbformat": 4,
 "nbformat_minor": 2
}
