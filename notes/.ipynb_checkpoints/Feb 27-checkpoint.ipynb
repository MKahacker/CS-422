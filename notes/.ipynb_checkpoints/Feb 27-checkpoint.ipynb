{
 "cells": [
  {
   "cell_type": "markdown",
   "metadata": {},
   "source": [
    "### Adminstration\n",
    "\n",
    "Quiz are gonna be online. Quizzes are gonna be specific to LHS and Links. The first after the midterm and the second sometime after. \n",
    "\n",
    "\n",
    "Exam is not gonna have code or mathematical proofs. Exams will be intuative. Ask general questions about working with data. Ask about covariance matrix.  \n",
    "\n",
    "Make sure you do the reading from the Tan book. Do the homework problems and fiddle with data you'll be fine on the exam."
   ]
  },
  {
   "cell_type": "code",
   "execution_count": null,
   "metadata": {},
   "outputs": [],
   "source": []
  }
 ],
 "metadata": {
  "kernelspec": {
   "display_name": "Python 3",
   "language": "python",
   "name": "python3"
  },
  "language_info": {
   "codemirror_mode": {
    "name": "ipython",
    "version": 3
   },
   "file_extension": ".py",
   "mimetype": "text/x-python",
   "name": "python",
   "nbconvert_exporter": "python",
   "pygments_lexer": "ipython3",
   "version": "3.6.8"
  }
 },
 "nbformat": 4,
 "nbformat_minor": 2
}
